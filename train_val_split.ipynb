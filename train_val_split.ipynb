{
 "cells": [
  {
   "cell_type": "code",
   "execution_count": 1,
   "id": "4c8b0095-2d75-457e-86af-a6773cf55fc8",
   "metadata": {},
   "outputs": [
    {
     "name": "stderr",
     "output_type": "stream",
     "text": [
      "/opt/conda/lib/python3.7/site-packages/tqdm/auto.py:22: TqdmWarning: IProgress not found. Please update jupyter and ipywidgets. See https://ipywidgets.readthedocs.io/en/stable/user_install.html\n",
      "  from .autonotebook import tqdm as notebook_tqdm\n"
     ]
    },
    {
     "data": {
      "text/plain": [
       "'1.12.0'"
      ]
     },
     "execution_count": 1,
     "metadata": {},
     "output_type": "execute_result"
    }
   ],
   "source": [
    "import torch\n",
    "torch.__version__"
   ]
  },
  {
   "cell_type": "code",
   "execution_count": 5,
   "id": "181a71f4-736f-4a12-ba46-43671e962c56",
   "metadata": {},
   "outputs": [
    {
     "data": {
      "text/plain": [
       "tensor([[5.1545, 0.3976, 0.0293, 1.6893],\n",
       "        [0.1402, 1.1908, 0.4134, 1.0106],\n",
       "        [0.4592, 0.0770, 0.0952, 0.0145],\n",
       "        [5.6508, 0.0906, 0.0473, 1.6715]], device='cuda:0')"
      ]
     },
     "execution_count": 5,
     "metadata": {},
     "output_type": "execute_result"
    }
   ],
   "source": [
    "x = torch.randn(4,4)\n",
    "x = x.to('cuda:0')\n",
    "x * x"
   ]
  },
  {
   "cell_type": "code",
   "execution_count": 8,
   "id": "540e45bc-e74a-4f79-ae4a-d4b21e3ac147",
   "metadata": {},
   "outputs": [
    {
     "data": {
      "text/plain": [
       "0.1"
      ]
     },
     "execution_count": 8,
     "metadata": {},
     "output_type": "execute_result"
    }
   ],
   "source": [
    "164/(1476+164)"
   ]
  },
  {
   "cell_type": "code",
   "execution_count": 7,
   "id": "3f2c5bf7-147c-42a0-8202-721bacc94a37",
   "metadata": {},
   "outputs": [
    {
     "data": {
      "text/plain": [
       "1476"
      ]
     },
     "execution_count": 7,
     "metadata": {},
     "output_type": "execute_result"
    }
   ],
   "source": [
    "len(os.listdir(os.path.join(path, 'train_lr')))"
   ]
  },
  {
   "cell_type": "code",
   "execution_count": 6,
   "id": "cda5ff2b-5ac7-4dc1-bb61-c22d86fbfd92",
   "metadata": {},
   "outputs": [
    {
     "data": {
      "text/plain": [
       "164"
      ]
     },
     "execution_count": 6,
     "metadata": {},
     "output_type": "execute_result"
    }
   ],
   "source": [
    "len(os.listdir(os.path.join(path, 'val_lr')))"
   ]
  },
  {
   "cell_type": "code",
   "execution_count": 2,
   "id": "c396d64a-cf8d-4d76-9012-9c3476912431",
   "metadata": {},
   "outputs": [
    {
     "data": {
      "text/plain": [
       "(1640, ['1631.png', '0641.png', '1340.png', '0370.png', '1458.png'])"
      ]
     },
     "execution_count": 2,
     "metadata": {},
     "output_type": "execute_result"
    }
   ],
   "source": [
    "import os\n",
    "import shutil\n",
    "\n",
    "path = 'HAT_official/datasets/data/train'\n",
    "filelist = os.listdir(os.path.join(path, 'lr'))\n",
    "len(filelist), filelist[:5]"
   ]
  },
  {
   "cell_type": "code",
   "execution_count": 3,
   "id": "1cc0ab38-0ba3-4967-87bd-f37f494b8b46",
   "metadata": {},
   "outputs": [
    {
     "data": {
      "text/plain": [
       "['1124.png', '0355.png', '1054.png', '0667.png', '1180.png']"
      ]
     },
     "execution_count": 3,
     "metadata": {},
     "output_type": "execute_result"
    }
   ],
   "source": [
    "import random\n",
    "random.seed(42)\n",
    "\n",
    "random.shuffle(filelist)\n",
    "filelist[:5]"
   ]
  },
  {
   "cell_type": "code",
   "execution_count": 8,
   "id": "f2a91c57-27f3-4406-9771-2df20484cdf9",
   "metadata": {},
   "outputs": [
    {
     "name": "stdout",
     "output_type": "stream",
     "text": [
      "1476 164\n"
     ]
    }
   ],
   "source": [
    "train_ratio = 0.9\n",
    "num_train = round(len(filelist) * train_ratio)\n",
    "print(num_train, len(filelist) - num_train)"
   ]
  },
  {
   "cell_type": "code",
   "execution_count": 10,
   "id": "df3f99a5-af03-4db4-99ec-da080b48fc60",
   "metadata": {},
   "outputs": [],
   "source": [
    "train_data = filelist[:num_train]\n",
    "val_data = filelist[num_train:]\n",
    "\n",
    "for fn in train_data:\n",
    "    shutil.copy(os.path.join(path, 'lr', fn), os.path.join(path, 'train_lr', fn))\n",
    "    shutil.copy(os.path.join(path, 'hr', fn), os.path.join(path, 'train_hr', fn))\n",
    "    \n",
    "for fn in val_data:\n",
    "    shutil.copy(os.path.join(path, 'lr', fn), os.path.join(path, 'val_lr', fn))\n",
    "    shutil.copy(os.path.join(path, 'hr', fn), os.path.join(path, 'val_hr', fn))"
   ]
  },
  {
   "cell_type": "code",
   "execution_count": null,
   "id": "38e76893-4e6c-4fc3-a6e8-05c7794400a2",
   "metadata": {},
   "outputs": [],
   "source": []
  }
 ],
 "metadata": {
  "kernelspec": {
   "display_name": "Python 3 (ipykernel)",
   "language": "python",
   "name": "python3"
  },
  "language_info": {
   "codemirror_mode": {
    "name": "ipython",
    "version": 3
   },
   "file_extension": ".py",
   "mimetype": "text/x-python",
   "name": "python",
   "nbconvert_exporter": "python",
   "pygments_lexer": "ipython3",
   "version": "3.7.13"
  }
 },
 "nbformat": 4,
 "nbformat_minor": 5
}
